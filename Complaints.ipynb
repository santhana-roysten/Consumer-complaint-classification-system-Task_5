{
 "cells": [
  {
   "cell_type": "code",
   "execution_count": 1,
   "id": "d063daba-2cea-4429-9bc3-4c65a5f77a9e",
   "metadata": {},
   "outputs": [],
   "source": [
    "import pandas as pd\n",
    "import numpy as np\n",
    "import matplotlib.pyplot as plt\n",
    "import seaborn as sns\n",
    "import re\n",
    "import nltk\n",
    "from nltk.corpus import stopwords\n",
    "from nltk.stem import WordNetLemmatizer\n",
    "from sklearn.model_selection import train_test_split\n",
    "from sklearn.feature_extraction.text import TfidfVectorizer\n",
    "from sklearn.linear_model import LogisticRegression\n",
    "from sklearn.naive_bayes import MultinomialNB\n",
    "from sklearn.metrics import accuracy_score, classification_report, confusion_matrix"
   ]
  },
  {
   "cell_type": "code",
   "execution_count": 2,
   "id": "affb4abe-25a5-445e-b4db-874fd1ad2cd6",
   "metadata": {},
   "outputs": [
    {
     "data": {
      "text/html": [
       "<div>\n",
       "<style scoped>\n",
       "    .dataframe tbody tr th:only-of-type {\n",
       "        vertical-align: middle;\n",
       "    }\n",
       "\n",
       "    .dataframe tbody tr th {\n",
       "        vertical-align: top;\n",
       "    }\n",
       "\n",
       "    .dataframe thead th {\n",
       "        text-align: right;\n",
       "    }\n",
       "</style>\n",
       "<table border=\"1\" class=\"dataframe\">\n",
       "  <thead>\n",
       "    <tr style=\"text-align: right;\">\n",
       "      <th></th>\n",
       "      <th>Date received</th>\n",
       "      <th>Product</th>\n",
       "      <th>Sub-product</th>\n",
       "      <th>Issue</th>\n",
       "      <th>Sub-issue</th>\n",
       "      <th>Consumer complaint narrative</th>\n",
       "      <th>Company public response</th>\n",
       "      <th>Company</th>\n",
       "      <th>State</th>\n",
       "      <th>ZIP code</th>\n",
       "      <th>Tags</th>\n",
       "      <th>Consumer consent provided?</th>\n",
       "      <th>Submitted via</th>\n",
       "      <th>Date sent to company</th>\n",
       "      <th>Company response to consumer</th>\n",
       "      <th>Timely response?</th>\n",
       "      <th>Consumer disputed?</th>\n",
       "      <th>Complaint ID</th>\n",
       "    </tr>\n",
       "  </thead>\n",
       "  <tbody>\n",
       "    <tr>\n",
       "      <th>0</th>\n",
       "      <td>08/28/25</td>\n",
       "      <td>Credit reporting or other personal consumer re...</td>\n",
       "      <td>Credit reporting</td>\n",
       "      <td>Problem with a company's investigation into an...</td>\n",
       "      <td>Investigation took more than 30 days</td>\n",
       "      <td>NaN</td>\n",
       "      <td>NaN</td>\n",
       "      <td>TRANSUNION INTERMEDIATE HOLDINGS, INC.</td>\n",
       "      <td>AR</td>\n",
       "      <td>72901</td>\n",
       "      <td>NaN</td>\n",
       "      <td>NaN</td>\n",
       "      <td>Web</td>\n",
       "      <td>08/28/25</td>\n",
       "      <td>In progress</td>\n",
       "      <td>Yes</td>\n",
       "      <td>NaN</td>\n",
       "      <td>15576155</td>\n",
       "    </tr>\n",
       "    <tr>\n",
       "      <th>1</th>\n",
       "      <td>09/01/25</td>\n",
       "      <td>Credit reporting or other personal consumer re...</td>\n",
       "      <td>Credit reporting</td>\n",
       "      <td>Improper use of your report</td>\n",
       "      <td>Reporting company used your report improperly</td>\n",
       "      <td>NaN</td>\n",
       "      <td>NaN</td>\n",
       "      <td>TRANSUNION INTERMEDIATE HOLDINGS, INC.</td>\n",
       "      <td>TX</td>\n",
       "      <td>76040</td>\n",
       "      <td>NaN</td>\n",
       "      <td>NaN</td>\n",
       "      <td>Web</td>\n",
       "      <td>09/01/25</td>\n",
       "      <td>In progress</td>\n",
       "      <td>Yes</td>\n",
       "      <td>NaN</td>\n",
       "      <td>15636031</td>\n",
       "    </tr>\n",
       "    <tr>\n",
       "      <th>2</th>\n",
       "      <td>08/27/25</td>\n",
       "      <td>Credit reporting or other personal consumer re...</td>\n",
       "      <td>Credit reporting</td>\n",
       "      <td>Incorrect information on your report</td>\n",
       "      <td>Information belongs to someone else</td>\n",
       "      <td>NaN</td>\n",
       "      <td>NaN</td>\n",
       "      <td>Experian Information Solutions Inc.</td>\n",
       "      <td>FL</td>\n",
       "      <td>33319</td>\n",
       "      <td>NaN</td>\n",
       "      <td>NaN</td>\n",
       "      <td>Web</td>\n",
       "      <td>08/27/25</td>\n",
       "      <td>In progress</td>\n",
       "      <td>Yes</td>\n",
       "      <td>NaN</td>\n",
       "      <td>15549463</td>\n",
       "    </tr>\n",
       "    <tr>\n",
       "      <th>3</th>\n",
       "      <td>07/11/25</td>\n",
       "      <td>Credit reporting or other personal consumer re...</td>\n",
       "      <td>Credit reporting</td>\n",
       "      <td>Incorrect information on your report</td>\n",
       "      <td>Information belongs to someone else</td>\n",
       "      <td>I did not initiate these inquiries and believe...</td>\n",
       "      <td>Company has responded to the consumer and the ...</td>\n",
       "      <td>TRANSUNION INTERMEDIATE HOLDINGS, INC.</td>\n",
       "      <td>TX</td>\n",
       "      <td>761XX</td>\n",
       "      <td>NaN</td>\n",
       "      <td>Consent provided</td>\n",
       "      <td>Web</td>\n",
       "      <td>07/11/25</td>\n",
       "      <td>Closed with non-monetary relief</td>\n",
       "      <td>Yes</td>\n",
       "      <td>NaN</td>\n",
       "      <td>14595898</td>\n",
       "    </tr>\n",
       "    <tr>\n",
       "      <th>4</th>\n",
       "      <td>07/24/25</td>\n",
       "      <td>Mortgage</td>\n",
       "      <td>FHA mortgage</td>\n",
       "      <td>Struggling to pay mortgage</td>\n",
       "      <td>Trying to communicate with the company to fix ...</td>\n",
       "      <td>NaN</td>\n",
       "      <td>NaN</td>\n",
       "      <td>AmeriHome Mortgage Company, LLC</td>\n",
       "      <td>FL</td>\n",
       "      <td>34983</td>\n",
       "      <td>NaN</td>\n",
       "      <td>NaN</td>\n",
       "      <td>Web</td>\n",
       "      <td>08/01/25</td>\n",
       "      <td>In progress</td>\n",
       "      <td>Yes</td>\n",
       "      <td>NaN</td>\n",
       "      <td>14869942</td>\n",
       "    </tr>\n",
       "  </tbody>\n",
       "</table>\n",
       "</div>"
      ],
      "text/plain": [
       "  Date received                                            Product  \\\n",
       "0      08/28/25  Credit reporting or other personal consumer re...   \n",
       "1      09/01/25  Credit reporting or other personal consumer re...   \n",
       "2      08/27/25  Credit reporting or other personal consumer re...   \n",
       "3      07/11/25  Credit reporting or other personal consumer re...   \n",
       "4      07/24/25                                           Mortgage   \n",
       "\n",
       "        Sub-product                                              Issue  \\\n",
       "0  Credit reporting  Problem with a company's investigation into an...   \n",
       "1  Credit reporting                        Improper use of your report   \n",
       "2  Credit reporting               Incorrect information on your report   \n",
       "3  Credit reporting               Incorrect information on your report   \n",
       "4      FHA mortgage                         Struggling to pay mortgage   \n",
       "\n",
       "                                           Sub-issue  \\\n",
       "0               Investigation took more than 30 days   \n",
       "1      Reporting company used your report improperly   \n",
       "2                Information belongs to someone else   \n",
       "3                Information belongs to someone else   \n",
       "4  Trying to communicate with the company to fix ...   \n",
       "\n",
       "                        Consumer complaint narrative  \\\n",
       "0                                                NaN   \n",
       "1                                                NaN   \n",
       "2                                                NaN   \n",
       "3  I did not initiate these inquiries and believe...   \n",
       "4                                                NaN   \n",
       "\n",
       "                             Company public response  \\\n",
       "0                                                NaN   \n",
       "1                                                NaN   \n",
       "2                                                NaN   \n",
       "3  Company has responded to the consumer and the ...   \n",
       "4                                                NaN   \n",
       "\n",
       "                                  Company State ZIP code Tags  \\\n",
       "0  TRANSUNION INTERMEDIATE HOLDINGS, INC.    AR    72901  NaN   \n",
       "1  TRANSUNION INTERMEDIATE HOLDINGS, INC.    TX    76040  NaN   \n",
       "2     Experian Information Solutions Inc.    FL    33319  NaN   \n",
       "3  TRANSUNION INTERMEDIATE HOLDINGS, INC.    TX    761XX  NaN   \n",
       "4         AmeriHome Mortgage Company, LLC    FL    34983  NaN   \n",
       "\n",
       "  Consumer consent provided? Submitted via Date sent to company  \\\n",
       "0                        NaN           Web             08/28/25   \n",
       "1                        NaN           Web             09/01/25   \n",
       "2                        NaN           Web             08/27/25   \n",
       "3           Consent provided           Web             07/11/25   \n",
       "4                        NaN           Web             08/01/25   \n",
       "\n",
       "      Company response to consumer Timely response?  Consumer disputed?  \\\n",
       "0                      In progress              Yes                 NaN   \n",
       "1                      In progress              Yes                 NaN   \n",
       "2                      In progress              Yes                 NaN   \n",
       "3  Closed with non-monetary relief              Yes                 NaN   \n",
       "4                      In progress              Yes                 NaN   \n",
       "\n",
       "   Complaint ID  \n",
       "0      15576155  \n",
       "1      15636031  \n",
       "2      15549463  \n",
       "3      14595898  \n",
       "4      14869942  "
      ]
     },
     "execution_count": 2,
     "metadata": {},
     "output_type": "execute_result"
    }
   ],
   "source": [
    "df = pd.read_csv(r\"E:\\Kaiburr-DS\\complaints-2025-09-21_04_41.csv\")\n",
    "df.head()"
   ]
  },
  {
   "cell_type": "code",
   "execution_count": 3,
   "id": "3607546f-fadc-4e38-a173-e69757180047",
   "metadata": {},
   "outputs": [
    {
     "data": {
      "text/plain": [
       "(1511771, 18)"
      ]
     },
     "execution_count": 3,
     "metadata": {},
     "output_type": "execute_result"
    }
   ],
   "source": [
    "df.shape"
   ]
  },
  {
   "cell_type": "code",
   "execution_count": 4,
   "id": "46644e2b-6f73-4782-aea1-e4be01c35e67",
   "metadata": {},
   "outputs": [
    {
     "data": {
      "text/plain": [
       "['Date received',\n",
       " 'Product',\n",
       " 'Sub-product',\n",
       " 'Issue',\n",
       " 'Sub-issue',\n",
       " 'Consumer complaint narrative',\n",
       " 'Company public response',\n",
       " 'Company',\n",
       " 'State',\n",
       " 'ZIP code',\n",
       " 'Tags',\n",
       " 'Consumer consent provided?',\n",
       " 'Submitted via',\n",
       " 'Date sent to company',\n",
       " 'Company response to consumer',\n",
       " 'Timely response?',\n",
       " 'Consumer disputed?',\n",
       " 'Complaint ID']"
      ]
     },
     "execution_count": 4,
     "metadata": {},
     "output_type": "execute_result"
    }
   ],
   "source": [
    "df.columns.tolist()"
   ]
  },
  {
   "cell_type": "code",
   "execution_count": 5,
   "id": "d274827c-f787-479e-99a7-02e7a6b98432",
   "metadata": {},
   "outputs": [
    {
     "name": "stdout",
     "output_type": "stream",
     "text": [
      "Unique product names:\n",
      "['Credit reporting or other personal consumer reports' 'Mortgage'\n",
      " 'Debt collection' 'Credit card' 'Checking or savings account'\n",
      " 'Money transfer, virtual currency, or money service'\n",
      " 'Payday loan, title loan, personal loan, or advance loan' 'Student loan'\n",
      " 'Vehicle loan or lease' 'Debt or credit management' 'Prepaid card']\n",
      "\n",
      "First complaint example:\n",
      "I did not initiate these inquiries and believe they may involve unauthorized activity. Kindly investigate this issue and take corrective action promptly. The documentation is enclosed for your reference.\n",
      "\n",
      "Missing in Product: 0\n",
      "Missing in Complaint: 1381125\n",
      "Total rows: 1511771\n"
     ]
    }
   ],
   "source": [
    "pd.set_option('display.max_colwidth', None)\n",
    "print(\"Unique product names:\")\n",
    "print(df['Product'].unique())\n",
    "pd.reset_option('display.max_colwidth')\n",
    "\n",
    "narratives = df['Consumer complaint narrative'].dropna()\n",
    "if len(narratives) > 0:\n",
    "    print(\"\\nFirst complaint example:\")\n",
    "    print(narratives.iloc[0])\n",
    "else:\n",
    "    print(\"\\nNo complaints found!\")\n",
    "\n",
    "print(\"\\nMissing in Product:\", df['Product'].isnull().sum())\n",
    "print(\"Missing in Complaint:\", df['Consumer complaint narrative'].isnull().sum())\n",
    "print(\"Total rows:\", len(df))"
   ]
  },
  {
   "cell_type": "code",
   "execution_count": 6,
   "id": "989d6469-6683-4713-b242-850c6188e174",
   "metadata": {},
   "outputs": [
    {
     "name": "stdout",
     "output_type": "stream",
     "text": [
      "Category counts (with NaN included):\n",
      "category\n",
      "0.0    1374168\n",
      "1.0      71639\n",
      "NaN      49052\n",
      "2.0      11592\n",
      "3.0       5320\n",
      "Name: count, dtype: int64\n"
     ]
    }
   ],
   "source": [
    "# Map products to categories\n",
    "category_map = {\n",
    "    'Credit reporting or other personal consumer reports': 0,\n",
    "    'Debt collection': 1,\n",
    "    'Payday loan, title loan, personal loan, or advance loan': 2,\n",
    "    'Student loan': 2,\n",
    "    'Vehicle loan or lease': 2,\n",
    "    'Mortgage': 3\n",
    "}\n",
    "\n",
    "df['category'] = df['Product'].map(category_map)\n",
    "\n",
    "# Check how many records in each category\n",
    "print(\"Category counts (with NaN included):\")\n",
    "print(df['category'].value_counts(dropna=False))\n"
   ]
  },
  {
   "cell_type": "code",
   "execution_count": 7,
   "id": "5ecb6b48-5e34-4825-b480-fe2d677373a7",
   "metadata": {},
   "outputs": [
    {
     "name": "stdout",
     "output_type": "stream",
     "text": [
      "Dropped 1345129 rows with empty complaints\n",
      "Final shape: (117590, 19)\n",
      "\n",
      "Class counts:\n",
      "category\n",
      "0.0    102015\n",
      "1.0     10633\n",
      "2.0      3117\n",
      "3.0      1825\n",
      "Name: count, dtype: int64\n",
      "\n",
      "Class %:\n",
      "category\n",
      "0.0    86.75\n",
      "1.0     9.04\n",
      "2.0     2.65\n",
      "3.0     1.55\n",
      "Name: proportion, dtype: float64\n"
     ]
    }
   ],
   "source": [
    "# Keeping only rows with mapped categories\n",
    "df = df.dropna(subset=['category'])\n",
    "\n",
    "# Drop rows without complaint text\n",
    "before = len(df)\n",
    "df = df.dropna(subset=['Consumer complaint narrative'])\n",
    "after = len(df)\n",
    "\n",
    "print(\"Dropped\", before - after, \"rows with empty complaints\")\n",
    "print(\"Final shape:\", df.shape)\n",
    "\n",
    "# Class distribution\n",
    "print(\"\\nClass counts:\")\n",
    "print(df['category'].value_counts())\n",
    "\n",
    "print(\"\\nClass %:\")\n",
    "print((df['category'].value_counts(normalize=True) * 100).round(2))\n"
   ]
  },
  {
   "cell_type": "code",
   "execution_count": 8,
   "id": "4e575eb7-a471-42df-a4e2-969bd917872d",
   "metadata": {},
   "outputs": [
    {
     "name": "stdout",
     "output_type": "stream",
     "text": [
      "Null check for CRITICAL columns:\n",
      "- 'Consumer complaint narrative' nulls: 0\n",
      "- 'category' nulls: 0\n",
      "- Total rows in dataset: 117590\n"
     ]
    }
   ],
   "source": [
    "#Checking for NULL Values\n",
    "print(\"Null check for CRITICAL columns:\")\n",
    "print(f\"- 'Consumer complaint narrative' nulls: {df['Consumer complaint narrative'].isnull().sum()}\")\n",
    "print(f\"- 'category' nulls: {df['category'].isnull().sum()}\")\n",
    "print(f\"- Total rows in dataset: {len(df)}\")"
   ]
  },
  {
   "cell_type": "code",
   "execution_count": 9,
   "id": "c569ba7e-7648-465e-8b18-1251b157a899",
   "metadata": {},
   "outputs": [
    {
     "data": {
      "image/png": "[encoded data removed]",
      "text/plain": [
       "<Figure size 800x500 with 1 Axes>"
      ]
     },
     "metadata": {},
     "output_type": "display_data"
    },
    {
     "name": "stdout",
     "output_type": "stream",
     "text": [
      "\n",
      "Text stats by category:\n",
      "          char_count  word_count\n",
      "category                        \n",
      "0.0            703.0       119.0\n",
      "1.0            693.0       120.0\n",
      "2.0           1037.0       179.0\n",
      "3.0           1276.0       218.0\n",
      "\n",
      "Created extra features: char_count, word_count, avg_word_len, unique_word_ratio\n"
     ]
    }
   ],
   "source": [
    "category_names = ['Credit Reporting', 'Debt Collection', 'Consumer Loan', 'Mortgage']\n",
    "counts = df['category'].value_counts().sort_index()\n",
    "\n",
    "plt.figure(figsize=(8,5))\n",
    "bars = plt.bar(category_names, counts, color=['skyblue','lightcoral','lightgreen','gold'])\n",
    "plt.title(\"Complaints per Category\")\n",
    "plt.xticks(rotation=30)\n",
    "\n",
    "# add counts on top\n",
    "for bar, count in zip(bars, counts):\n",
    "    plt.text(bar.get_x() + bar.get_width()/2, bar.get_height()+200, str(count), \n",
    "             ha='center', fontweight='bold')\n",
    "\n",
    "plt.show()\n",
    "\n",
    "df['char_count'] = df['Consumer complaint narrative'].str.len()\n",
    "df['word_count'] = df['Consumer complaint narrative'].apply(lambda x: len(x.split()))\n",
    "\n",
    "print(\"\\nText stats by category:\")\n",
    "print(df.groupby('category')[['char_count','word_count']].median())\n",
    "\n",
    "# Made a couple of extra features\n",
    "df['avg_word_len'] = df['Consumer complaint narrative'].apply(\n",
    "    lambda x: np.mean([len(w) for w in x.split()]) if len(x.split())>0 else 0\n",
    ")\n",
    "df['unique_word_ratio'] = df['Consumer complaint narrative'].apply(\n",
    "    lambda x: len(set(x.split()))/len(x.split()) if len(x.split())>0 else 0\n",
    ")\n",
    "\n",
    "print(\"\\nCreated extra features: char_count, word_count, avg_word_len, unique_word_ratio\")\n"
   ]
  },
  {
   "cell_type": "code",
   "execution_count": 10,
   "id": "7e3c3dde-a727-4186-8116-9efe7c76b698",
   "metadata": {},
   "outputs": [
    {
     "name": "stdout",
     "output_type": "stream",
     "text": [
      "Cleaning text data...\n",
      "Sample of original vs cleaned text:\n",
      "Original: I did not initiate these inquiries and believe they may involve unauthorized activity. Kindly invest...\n",
      "Cleaned:  initiate inquiry believe may involve unauthorized activity kindly investigate issue take corrective ...\n",
      "Text preprocessing completed!\n"
     ]
    }
   ],
   "source": [
    "# text cleaning\n",
    "def clean_text(text):\n",
    "    if not isinstance(text, str):\n",
    "        return \"\"\n",
    "    \n",
    "    try:\n",
    "        nltk.data.find('corpora/stopwords')\n",
    "    except LookupError:\n",
    "        nltk.download('stopwords')\n",
    "        nltk.download('wordnet')\n",
    "    \n",
    "    text = text.lower()\n",
    "    text = re.sub(r'[^a-zA-Z\\s]', '', text)\n",
    "    words = text.split()\n",
    "    \n",
    "    stop_words = set(stopwords.words('english'))\n",
    "    words = [w for w in words if w not in stop_words]\n",
    "    \n",
    "    lemmatizer = WordNetLemmatizer()\n",
    "    words = [lemmatizer.lemmatize(w) for w in words]\n",
    "    \n",
    "    return ' '.join(words)\n",
    "\n",
    "print(\"Cleaning text data...\")\n",
    "df['cleaned_text'] = df['Consumer complaint narrative'].apply(clean_text)\n",
    "\n",
    "print(\"Sample of original vs cleaned text:\")\n",
    "print(\"Original:\", df['Consumer complaint narrative'].iloc[0][:100] + \"...\")\n",
    "print(\"Cleaned: \", df['cleaned_text'].iloc[0][:100] + \"...\")\n",
    "print(\"Text preprocessing completed!\")\n"
   ]
  },
  {
   "cell_type": "code",
   "execution_count": 11,
   "id": "7fe1ae22-3496-4b1e-9d4a-53936064f190",
   "metadata": {},
   "outputs": [
    {
     "name": "stdout",
     "output_type": "stream",
     "text": [
      "Converting text to numerical features...\n",
      "Training features shape: (326448, 5000)\n",
      "Testing features shape: (23518, 5000)\n",
      "Data ready for model training!\n"
     ]
    }
   ],
   "source": [
    "# features and target\n",
    "X = df['cleaned_text']\n",
    "y = df['category']\n",
    "\n",
    "from sklearn.model_selection import train_test_split\n",
    "X_train, X_test, y_train, y_test = train_test_split(\n",
    "    X, y, test_size=0.2, random_state=42, stratify=y\n",
    ")\n",
    "\n",
    "# convert text to numbers\n",
    "print(\"Converting text to numerical features...\")\n",
    "vectorizer = TfidfVectorizer(max_features=5000, stop_words='english')\n",
    "X_train_tfidf = vectorizer.fit_transform(X_train)\n",
    "X_test_tfidf = vectorizer.transform(X_test)\n",
    "\n",
    "# balance training data using SMOTE\n",
    "from imblearn.over_sampling import SMOTE\n",
    "smote = SMOTE(random_state=42)\n",
    "X_train_res, y_train_res = smote.fit_resample(X_train_tfidf, y_train)\n",
    "\n",
    "print(f\"Training features shape: {X_train_res.shape}\")\n",
    "print(f\"Testing features shape: {X_test_tfidf.shape}\")\n",
    "\n",
    "models = {\n",
    "    'Logistic Regression': LogisticRegression(random_state=42, class_weight='balanced', max_iter=500),\n",
    "    'Naive Bayes': MultinomialNB(),\n",
    "}\n",
    "\n",
    "print(\"Data ready for model training!\")\n"
   ]
  },
  {
   "cell_type": "code",
   "execution_count": 12,
   "id": "d4ce9ca7-1dec-4f78-81d0-76bddffbeff7",
   "metadata": {},
   "outputs": [
    {
     "name": "stdout",
     "output_type": "stream",
     "text": [
      "\n",
      "Training Logistic Regression:\n",
      "Logistic Regression Accuracy: 0.9137\n",
      "\n",
      "Logistic Regression Classification Report:\n",
      "              precision    recall  f1-score   support\n",
      "\n",
      "         0.0       0.99      0.92      0.95     20403\n",
      "         1.0       0.61      0.85      0.71      2127\n",
      "         2.0       0.49      0.82      0.62       623\n",
      "         3.0       0.76      0.89      0.82       365\n",
      "\n",
      "    accuracy                           0.91     23518\n",
      "   macro avg       0.71      0.87      0.77     23518\n",
      "weighted avg       0.94      0.91      0.92     23518\n",
      "\n",
      "------------------------------------------------------------\n",
      "\n",
      "Training Naive Bayes:\n",
      "Naive Bayes Accuracy: 0.8683\n",
      "\n",
      "Naive Bayes Classification Report:\n",
      "              precision    recall  f1-score   support\n",
      "\n",
      "         0.0       0.99      0.88      0.93     20403\n",
      "         1.0       0.54      0.74      0.62      2127\n",
      "         2.0       0.31      0.88      0.46       623\n",
      "         3.0       0.56      0.96      0.71       365\n",
      "\n",
      "    accuracy                           0.87     23518\n",
      "   macro avg       0.60      0.87      0.68     23518\n",
      "weighted avg       0.92      0.87      0.89     23518\n",
      "\n",
      "------------------------------------------------------------\n"
     ]
    }
   ],
   "source": [
    "# Train and evaluate each model after SMOTE\n",
    "for name, model in models.items():\n",
    "    print(f\"\\nTraining {name}:\")\n",
    "    model.fit(X_train_res, y_train_res)  \n",
    "    y_pred = model.predict(X_test_tfidf) \n",
    "    acc = accuracy_score(y_test, y_pred)\n",
    "    print(f\"{name} Accuracy: {acc:.4f}\")\n",
    "    print(f\"\\n{name} Classification Report:\")\n",
    "    print(classification_report(y_test, y_pred))\n",
    "    print(\"-\"*60)"
   ]
  },
  {
   "cell_type": "code",
   "execution_count": 13,
   "id": "f4342277-5f62-4f4c-b343-217175d388c1",
   "metadata": {},
   "outputs": [
    {
     "data": {
      "image/png": "[encoded data removed]",
      "text/plain": [
       "<Figure size 600x500 with 2 Axes>"
      ]
     },
     "metadata": {},
     "output_type": "display_data"
    },
    {
     "data": {
      "image/png": "[encoded data removed]",
      "text/plain": [
       "<Figure size 600x400 with 1 Axes>"
      ]
     },
     "metadata": {},
     "output_type": "display_data"
    }
   ],
   "source": [
    "# picking the best model\n",
    "best_model = models['Logistic Regression']\n",
    "\n",
    "y_pred = best_model.predict(X_test_tfidf)\n",
    "\n",
    "cm = confusion_matrix(y_test, y_pred)\n",
    "category_names = ['Credit Reporting', 'Debt Collection', 'Consumer Loan', 'Mortgage']\n",
    "\n",
    "plt.figure(figsize=(6,5))\n",
    "sns.heatmap(cm, annot=True, fmt='d', xticklabels=category_names, yticklabels=category_names, cmap='Blues')\n",
    "plt.xlabel('Predicted')\n",
    "plt.ylabel('Actual')\n",
    "plt.title('Confusion Matrix - Best Model')\n",
    "plt.show()\n",
    "\n",
    "model_names = []\n",
    "accuracies = []\n",
    "\n",
    "for name, model in models.items():\n",
    "    y_pred_model = model.predict(X_test_tfidf)\n",
    "    acc = accuracy_score(y_test, y_pred_model)\n",
    "    model_names.append(name)\n",
    "    accuracies.append(acc)\n",
    "\n",
    "plt.figure(figsize=(6,4))\n",
    "plt.bar(model_names, accuracies, color=['skyblue','lightgreen','lightcoral'])\n",
    "plt.ylim(0,1)\n",
    "plt.ylabel(\"Accuracy\")\n",
    "plt.title(\"Model Accuracy Comparison\")\n",
    "for i, v in enumerate(accuracies):\n",
    "    plt.text(i, v+0.01, f\"{v:.2f}\", ha='center')\n",
    "plt.show()"
   ]
  },
  {
   "cell_type": "code",
   "execution_count": 14,
   "id": "93f0a9c9-efa1-46c8-af08-b82c3d1a1677",
   "metadata": {},
   "outputs": [
    {
     "name": "stdout",
     "output_type": "stream",
     "text": [
      "Complaint: I am being called by a debt collector every day\n",
      "Predicted Category: Debt Collection\n",
      "------------------------------------------------------------\n",
      "Complaint: My credit report has wrong information\n",
      "Predicted Category: Credit Reporting\n",
      "------------------------------------------------------------\n",
      "Complaint: I need help with my student loan payment\n",
      "Predicted Category: Consumer Loan\n",
      "------------------------------------------------------------\n",
      "Complaint: I am having trouble with my mortgage company\n",
      "Predicted Category: Mortgage\n",
      "------------------------------------------------------------\n"
     ]
    }
   ],
   "source": [
    "#Prediction\n",
    "new_complaints = [\n",
    "    \"I am being called by a debt collector every day\",\n",
    "    \"My credit report has wrong information\",\n",
    "    \"I need help with my student loan payment\",\n",
    "    \"I am having trouble with my mortgage company\"\n",
    "]\n",
    "\n",
    "cleaned_new = [clean_text(text) for text in new_complaints]\n",
    "\n",
    "X_new_tfidf = vectorizer.transform(cleaned_new)\n",
    "\n",
    "# predict categories\n",
    "predictions = best_model.predict(X_new_tfidf)\n",
    "\n",
    "# map numeric categories back to names\n",
    "category_names = ['Credit Reporting', 'Debt Collection', 'Consumer Loan', 'Mortgage']\n",
    "pred_category_names = [category_names[int(p)] for p in predictions]\n",
    "\n",
    "for text, cat in zip(new_complaints, pred_category_names):\n",
    "    print(\"Complaint:\", text)\n",
    "    print(\"Predicted Category:\", cat)\n",
    "    print(\"-\"*60)\n"
   ]
  },
  {
   "cell_type": "code",
   "execution_count": null,
   "id": "6816d101-b438-476f-8a61-2bf27ef7d248",
   "metadata": {},
   "outputs": [],
   "source": []
  }
 ],
 "metadata": {
  "kernelspec": {
   "display_name": "Python 3 (ipykernel)",
   "language": "python",
   "name": "python3"
  },
  "language_info": {
   "codemirror_mode": {
    "name": "ipython",
    "version": 3
   },
   "file_extension": ".py",
   "mimetype": "text/x-python",
   "name": "python",
   "nbconvert_exporter": "python",
   "pygments_lexer": "ipython3",
   "version": "3.12.4"
  }
 },
 "nbformat": 4,
 "nbformat_minor": 5
}
